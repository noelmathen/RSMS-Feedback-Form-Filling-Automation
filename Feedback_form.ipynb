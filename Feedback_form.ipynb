{
  "nbformat": 4,
  "nbformat_minor": 0,
  "metadata": {
    "colab": {
      "provenance": [],
      "authorship_tag": "ABX9TyMT9nE422CY61ttHIQN3dfz",
      "include_colab_link": true
    },
    "kernelspec": {
      "name": "python3",
      "display_name": "Python 3"
    },
    "language_info": {
      "name": "python"
    }
  },
  "cells": [
    {
      "cell_type": "markdown",
      "metadata": {
        "id": "view-in-github",
        "colab_type": "text"
      },
      "source": [
        "<a href=\"https://colab.research.google.com/github/noelmathen/RSMS-Feedback-Form-Filling-Automation/blob/main/Feedback_form.ipynb\" target=\"_parent\"><img src=\"https://colab.research.google.com/assets/colab-badge.svg\" alt=\"Open In Colab\"/></a>"
      ]
    },
    {
      "cell_type": "code",
      "source": [
        "!pip install selenium pandas"
      ],
      "metadata": {
        "id": "3cO8X-oxClPg"
      },
      "execution_count": null,
      "outputs": []
    },
    {
      "cell_type": "code",
      "source": [
        "!apt-get update\n",
        "!apt-get install chromium chromium-driver"
      ],
      "metadata": {
        "id": "q3BK-HuZC8MB"
      },
      "execution_count": null,
      "outputs": []
    },
    {
      "cell_type": "code",
      "source": [
        "def web_driver():\n",
        "    options = webdriver.ChromeOptions()\n",
        "    options.add_argument(\"--verbose\")\n",
        "    options.add_argument('--no-sandbox')\n",
        "    options.add_argument('--headless')\n",
        "    options.add_argument('--disable-gpu')\n",
        "    options.add_argument(\"--window-size=1920, 1200\")\n",
        "    options.add_argument('--disable-dev-shm-usage')\n",
        "    driver = webdriver.Chrome(options=options)\n",
        "    return driver"
      ],
      "metadata": {
        "id": "FifAxbvdDtXo"
      },
      "execution_count": 5,
      "outputs": []
    },
    {
      "cell_type": "code",
      "source": [
        "from selenium import webdriver\n",
        "from selenium.webdriver.chrome.service import Service as ChromeService\n",
        "from selenium.webdriver.common.by import By\n",
        "from selenium.webdriver.support.ui import Select\n",
        "from selenium.webdriver.support.ui import WebDriverWait\n",
        "from selenium.webdriver.support import expected_conditions as EC\n",
        "from selenium.common.exceptions import NoSuchElementException\n",
        "import time\n",
        "\n",
        "def select_feedback_options(driver):\n",
        "    for question_number in range(1, 18):\n",
        "        try:\n",
        "            radio_name = f\"{11005 + question_number}\"\n",
        "            if question_number in range(1, 16):\n",
        "                driver.find_element(By.CSS_SELECTOR, f\"input[name='{radio_name}'][value='4']\").click()\n",
        "            elif question_number == 16 or question_number == 17:\n",
        "                text_area_name = f\"{11005 + question_number}\"\n",
        "                driver.find_element(By.CSS_SELECTOR, f\"textarea[name='{text_area_name}']\").send_keys('-')\n",
        "            time.sleep(0.01)\n",
        "        except NoSuchElementException:\n",
        "            print(f\"Element for question {question_number} not found.\")\n",
        "\n",
        "    try:\n",
        "        driver.find_element(By.NAME, \"B1\").click()\n",
        "        WebDriverWait(driver, 10).until(EC.presence_of_element_located((By.NAME, \"Subject_Code\")))\n",
        "        time.sleep(2)\n",
        "    except NoSuchElementException:\n",
        "        print(\"Button or Subject Code input not found.\")\n",
        "\n",
        "username = input(\"Enter your uid: \")\n",
        "password = input(\"Enter your password: \")\n",
        "\n",
        "try:\n",
        "    driver = web_driver()\n",
        "    #driver.maximize_window()\n",
        "    driver.get(\"https://www.rajagiritech.ac.in/stud/ktu/student/\")\n",
        "    driver.find_element(By.NAME, \"Userid\").send_keys(username)\n",
        "    driver.find_element(By.NAME, \"Password\").send_keys(password)\n",
        "    driver.find_element(By.XPATH, \"//input[@type='submit']\").click()\n",
        "    driver.find_element(By.LINK_TEXT, \"2024 END Semester Feedback Even\").click()\n",
        "    time.sleep(2)\n",
        "\n",
        "    while True:\n",
        "        try:\n",
        "            dropdown = Select(driver.find_element(By.NAME, \"Subject_Code\"))\n",
        "            first_option = dropdown.first_selected_option.text\n",
        "            print(f\"Feedback for {first_option} completed\")\n",
        "            dropdown.select_by_visible_text(first_option)\n",
        "            select_feedback_options(driver)\n",
        "        except NoSuchElementException:\n",
        "            print(\"Feedback submission completed!.\")\n",
        "            break\n",
        "        except Exception as e:\n",
        "            print(f\"An unexpected error occurred: {e}\")\n",
        "            break\n",
        "finally:\n",
        "    driver.quit()\n"
      ],
      "metadata": {
        "id": "7Ej573meCjNg"
      },
      "execution_count": null,
      "outputs": []
    }
  ]
}